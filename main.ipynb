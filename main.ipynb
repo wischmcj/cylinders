{
 "cells": [
  {
   "cell_type": "code",
   "execution_count": 1,
   "metadata": {},
   "outputs": [],
   "source": [
    "import geopandas as geo\n",
    "import numpy as np\n",
    "import matplotlib.pyplot as plt\n",
    "import pandas as pd\n",
    "import os\n",
    "from pathlib import Path\n",
    "from time import sleep\n",
    "from random import random\n",
    "from multiprocessing import Pool\n",
    "from shapely.geometry import Polygon\n",
    "from shapely.ops import unary_union\n",
    "from descartes import PolygonPatch\n",
    "import networkx as nx\n",
    "from mpl_toolkits import mplot3d\n",
    "\n",
    "from src import cylinder\n",
    "\n",
    "%load_ext autoreload\n",
    "%autoreload 2"
   ]
  },
  {
   "cell_type": "code",
   "execution_count": 2,
   "metadata": {},
   "outputs": [],
   "source": [
    "dirtorun = r'G:/My Drive/forOthers/johnVanStann/cylinders/data'\n",
    "\n",
    "os.chdir(dirtorun)\n",
    "\n",
    "fullPath = Path(dirtorun)\n",
    "\n",
    "paths = sorted(fullPath.iterdir(),key=os.path.getmtime)\n",
    "\n",
    "fileNames = [f.name for f in paths if f.suffix == '.csv']\n",
    "\n",
    "df = pd.read_csv(fileNames[1],header=0)\n"
   ]
  },
  {
   "cell_type": "code",
   "execution_count": 3,
   "metadata": {},
   "outputs": [
    {
     "data": {
      "text/plain": [
       "['Secrest16-14_000000.csv',\n",
       " 'Secrest03-12_000000.csv',\n",
       " 'Secrest24-07_000000.csv',\n",
       " 'Secrest26-03_000000.csv',\n",
       " 'SecrestTI-CO_000000.csv',\n",
       " 'Secrest27-05_000000.csv',\n",
       " 'Secrest32-06_000000.csv',\n",
       " 'Secrest07-32_000000.csv',\n",
       " 'Secrest02-26_000000.csv',\n",
       " 'Secrest10-08_000000.csv',\n",
       " 'Secrest32-01_theBEST_000000.csv',\n",
       " 'Secrest18-13_000000.csv']"
      ]
     },
     "execution_count": 3,
     "metadata": {},
     "output_type": "execute_result"
    }
   ],
   "source": [
    "fileNames"
   ]
  },
  {
   "cell_type": "code",
   "execution_count": 5,
   "metadata": {},
   "outputs": [
    {
     "name": "stderr",
     "output_type": "stream",
     "text": [
      "c:\\Users\\User\\VScodeProjects\\canopyCylinders\\src\\cylinder.py:55: RuntimeWarning: divide by zero encountered in divide\n",
      "  self.theta = np.arctan(self.dz/np.sqrt(self.dx**2 + self.dy**2))\n"
     ]
    },
    {
     "name": "stdout",
     "output_type": "stream",
     "text": [
      "Finished 1423 entry \n",
      "\n",
      "Finished 13975 entry \n",
      "\n",
      "Finished 25153 entry \n",
      "\n",
      "Finished 28458 entry \n",
      "\n",
      "Finished 29059 entry \n",
      "\n"
     ]
    },
    {
     "name": "stderr",
     "output_type": "stream",
     "text": [
      "c:\\Users\\User\\VScodeProjects\\canopyCylinders\\src\\cylinder.py:55: RuntimeWarning: divide by zero encountered in divide\n",
      "  self.theta = np.arctan(self.dz/np.sqrt(self.dx**2 + self.dy**2))\n"
     ]
    },
    {
     "name": "stdout",
     "output_type": "stream",
     "text": [
      "Finished 2101 entry \n",
      "\n",
      "Finished 2356 entry \n",
      "\n",
      "Finished 3073 entry \n",
      "\n",
      "Finished 7647 entry \n",
      "\n",
      "Finished 18545 entry \n",
      "\n",
      "Finished 27965 entry \n",
      "\n",
      "Finished 37106 entry \n",
      "\n"
     ]
    },
    {
     "name": "stderr",
     "output_type": "stream",
     "text": [
      "c:\\Users\\User\\VScodeProjects\\canopyCylinders\\src\\cylinder.py:55: RuntimeWarning: divide by zero encountered in divide\n",
      "  self.theta = np.arctan(self.dz/np.sqrt(self.dx**2 + self.dy**2))\n"
     ]
    },
    {
     "name": "stdout",
     "output_type": "stream",
     "text": [
      "Finished 19233 entry \n",
      "\n",
      "Finished 29339 entry \n",
      "\n",
      "Finished 31392 entry \n",
      "\n",
      "Finished 36971 entry \n",
      "\n"
     ]
    },
    {
     "name": "stderr",
     "output_type": "stream",
     "text": [
      "c:\\Users\\User\\VScodeProjects\\canopyCylinders\\src\\cylinder.py:55: RuntimeWarning: divide by zero encountered in divide\n",
      "  self.theta = np.arctan(self.dz/np.sqrt(self.dx**2 + self.dy**2))\n"
     ]
    },
    {
     "name": "stdout",
     "output_type": "stream",
     "text": [
      "Finished 1770 entry \n",
      "\n",
      "Finished 3197 entry \n",
      "\n",
      "Finished 16256 entry \n",
      "\n",
      "Finished 25093 entry \n",
      "\n",
      "Finished 27871 entry \n",
      "\n",
      "Finished 31072 entry \n",
      "\n",
      "Finished 45501 entry \n",
      "\n"
     ]
    },
    {
     "name": "stderr",
     "output_type": "stream",
     "text": [
      "c:\\Users\\User\\VScodeProjects\\canopyCylinders\\src\\cylinder.py:55: RuntimeWarning: divide by zero encountered in divide\n",
      "  self.theta = np.arctan(self.dz/np.sqrt(self.dx**2 + self.dy**2))\n"
     ]
    },
    {
     "name": "stdout",
     "output_type": "stream",
     "text": [
      "Finished 1690 entry \n",
      "\n",
      "Finished 6881 entry \n",
      "\n",
      "Finished 10588 entry \n",
      "\n",
      "Finished 15210 entry \n",
      "\n",
      "Finished 15697 entry \n",
      "\n",
      "Finished 27900 entry \n",
      "\n",
      "Finished 32495 entry \n",
      "\n",
      "Finished 42344 entry \n",
      "\n",
      "Finished 46661 entry \n",
      "\n"
     ]
    },
    {
     "name": "stderr",
     "output_type": "stream",
     "text": [
      "c:\\Users\\User\\VScodeProjects\\canopyCylinders\\src\\cylinder.py:55: RuntimeWarning: divide by zero encountered in divide\n",
      "  self.theta = np.arctan(self.dz/np.sqrt(self.dx**2 + self.dy**2))\n"
     ]
    },
    {
     "name": "stdout",
     "output_type": "stream",
     "text": [
      "Finished 8799 entry \n",
      "\n",
      "Finished 24521 entry \n",
      "\n"
     ]
    },
    {
     "name": "stderr",
     "output_type": "stream",
     "text": [
      "c:\\Users\\User\\VScodeProjects\\canopyCylinders\\src\\cylinder.py:55: RuntimeWarning: divide by zero encountered in divide\n",
      "  self.theta = np.arctan(self.dz/np.sqrt(self.dx**2 + self.dy**2))\n"
     ]
    },
    {
     "name": "stdout",
     "output_type": "stream",
     "text": [
      "Finished 3632 entry \n",
      "\n",
      "Finished 4128 entry \n",
      "\n",
      "Finished 10034 entry \n",
      "\n",
      "Finished 12783 entry \n",
      "\n"
     ]
    },
    {
     "name": "stderr",
     "output_type": "stream",
     "text": [
      "c:\\Users\\User\\VScodeProjects\\canopyCylinders\\src\\cylinder.py:55: RuntimeWarning: divide by zero encountered in divide\n",
      "  self.theta = np.arctan(self.dz/np.sqrt(self.dx**2 + self.dy**2))\n"
     ]
    },
    {
     "name": "stdout",
     "output_type": "stream",
     "text": [
      "Finished 8108 entry \n",
      "\n",
      "Finished 11026 entry \n",
      "\n"
     ]
    },
    {
     "name": "stderr",
     "output_type": "stream",
     "text": [
      "c:\\Users\\User\\VScodeProjects\\canopyCylinders\\src\\cylinder.py:55: RuntimeWarning: divide by zero encountered in divide\n",
      "  self.theta = np.arctan(self.dz/np.sqrt(self.dx**2 + self.dy**2))\n"
     ]
    },
    {
     "name": "stdout",
     "output_type": "stream",
     "text": [
      "Finished 16715 entry \n",
      "\n",
      "Finished 18096 entry \n",
      "\n",
      "Finished 34496 entry \n",
      "\n"
     ]
    },
    {
     "name": "stderr",
     "output_type": "stream",
     "text": [
      "c:\\Users\\User\\VScodeProjects\\canopyCylinders\\src\\cylinder.py:55: RuntimeWarning: divide by zero encountered in divide\n",
      "  self.theta = np.arctan(self.dz/np.sqrt(self.dx**2 + self.dy**2))\n"
     ]
    },
    {
     "name": "stdout",
     "output_type": "stream",
     "text": [
      "Finished 3543 entry \n",
      "\n",
      "Finished 22538 entry \n",
      "\n"
     ]
    },
    {
     "name": "stderr",
     "output_type": "stream",
     "text": [
      "c:\\Users\\User\\VScodeProjects\\canopyCylinders\\src\\cylinder.py:55: RuntimeWarning: divide by zero encountered in divide\n",
      "  self.theta = np.arctan(self.dz/np.sqrt(self.dx**2 + self.dy**2))\n"
     ]
    },
    {
     "name": "stdout",
     "output_type": "stream",
     "text": [
      "Finished 5794 entry \n",
      "\n",
      "Finished 6805 entry \n",
      "\n",
      "Finished 7728 entry \n",
      "\n",
      "Finished 9591 entry \n",
      "\n",
      "Finished 28294 entry \n",
      "\n",
      "Finished 41904 entry \n",
      "\n",
      "Finished 53155 entry \n",
      "\n",
      "Finished 59354 entry \n",
      "\n",
      "Finished 80488 entry \n",
      "\n"
     ]
    },
    {
     "name": "stderr",
     "output_type": "stream",
     "text": [
      "c:\\Users\\User\\VScodeProjects\\canopyCylinders\\src\\cylinder.py:55: RuntimeWarning: divide by zero encountered in divide\n",
      "  self.theta = np.arctan(self.dz/np.sqrt(self.dx**2 + self.dy**2))\n"
     ]
    },
    {
     "name": "stdout",
     "output_type": "stream",
     "text": [
      "Finished 8187 entry \n",
      "\n"
     ]
    }
   ],
   "source": [
    "stemlengths = {}\n",
    "for f in fileNames:\n",
    "    c = cylinder.CylinderCollection(f)\n",
    "    c.read_csv()\n",
    "    c.compute_stem_paths()\n",
    "    stemlengths[f] = c.stempaths"
   ]
  },
  {
   "cell_type": "code",
   "execution_count": 6,
   "metadata": {},
   "outputs": [],
   "source": [
    "savStemlengths = stemlengths"
   ]
  },
  {
   "cell_type": "code",
   "execution_count": 7,
   "metadata": {},
   "outputs": [],
   "source": [
    "\n",
    "for s in stemlengths:\n",
    "    tmp = stemlengths[s].flatten()\n",
    "    stemlengths[s] = tmp[~np.isnan(tmp)]"
   ]
  },
  {
   "cell_type": "code",
   "execution_count": 8,
   "metadata": {},
   "outputs": [],
   "source": [
    "stemlength_df = pd.DataFrame()\n",
    "for s in stemlengths:\n",
    "    tmp = pd.DataFrame(stemlengths[s], columns = [s])\n",
    "    stemlength_df = pd.concat([stemlength_df,tmp], ignore_index=True, axis=1)"
   ]
  },
  {
   "cell_type": "code",
   "execution_count": 15,
   "metadata": {},
   "outputs": [],
   "source": [
    "stemlength_df.columns = list(stemlengths.keys()) "
   ]
  },
  {
   "cell_type": "code",
   "execution_count": 32,
   "metadata": {},
   "outputs": [],
   "source": [
    "\n",
    "%matplotlib qt\n",
    "hist = stemlength_df.hist(bins=100)"
   ]
  },
  {
   "cell_type": "code",
   "execution_count": 21,
   "metadata": {},
   "outputs": [
    {
     "name": "stdout",
     "output_type": "stream",
     "text": [
      "quantile at 10th percentile\n",
      "\n",
      "Secrest16-14_000000.csv            8.855051\n",
      "Secrest03-12_000000.csv            7.776657\n",
      "Secrest24-07_000000.csv            8.197466\n",
      "Secrest26-03_000000.csv            6.598099\n",
      "SecrestTI-CO_000000.csv            7.611965\n",
      "Secrest27-05_000000.csv            6.633651\n",
      "Secrest32-06_000000.csv            7.100908\n",
      "Secrest07-32_000000.csv            7.110730\n",
      "Secrest02-26_000000.csv            8.657532\n",
      "Secrest10-08_000000.csv            8.391142\n",
      "Secrest32-01_theBEST_000000.csv    9.506796\n",
      "Secrest18-13_000000.csv            7.911499\n",
      "Name: 0.1, dtype: float64\n",
      "\n",
      "\n",
      "\n",
      "quantile at 50th percentile\n",
      "\n",
      "Secrest16-14_000000.csv            12.930902\n",
      "Secrest03-12_000000.csv            11.141028\n",
      "Secrest24-07_000000.csv            13.016726\n",
      "Secrest26-03_000000.csv             9.587314\n",
      "SecrestTI-CO_000000.csv            10.298388\n",
      "Secrest27-05_000000.csv             9.748484\n",
      "Secrest32-06_000000.csv             9.909593\n",
      "Secrest07-32_000000.csv            10.656651\n",
      "Secrest02-26_000000.csv            12.411326\n",
      "Secrest10-08_000000.csv            12.390059\n",
      "Secrest32-01_theBEST_000000.csv    13.450860\n",
      "Secrest18-13_000000.csv            10.587997\n",
      "Name: 0.5, dtype: float64\n",
      "\n",
      "\n",
      "\n",
      "quantile at 80th percentile\n",
      "\n",
      "Secrest16-14_000000.csv            16.942181\n",
      "Secrest03-12_000000.csv            13.847926\n",
      "Secrest24-07_000000.csv            18.681362\n",
      "Secrest26-03_000000.csv            11.715356\n",
      "SecrestTI-CO_000000.csv            13.307192\n",
      "Secrest27-05_000000.csv            11.998750\n",
      "Secrest32-06_000000.csv            12.092852\n",
      "Secrest07-32_000000.csv            15.156238\n",
      "Secrest02-26_000000.csv            18.093663\n",
      "Secrest10-08_000000.csv            16.163024\n",
      "Secrest32-01_theBEST_000000.csv    17.347137\n",
      "Secrest18-13_000000.csv            13.272332\n",
      "Name: 0.9, dtype: float64\n",
      "\n",
      "\n",
      "\n",
      "quantile at 90th percentile\n",
      "\n",
      "Secrest16-14_000000.csv            16.942181\n",
      "Secrest03-12_000000.csv            13.847926\n",
      "Secrest24-07_000000.csv            18.681362\n",
      "Secrest26-03_000000.csv            11.715356\n",
      "SecrestTI-CO_000000.csv            13.307192\n",
      "Secrest27-05_000000.csv            11.998750\n",
      "Secrest32-06_000000.csv            12.092852\n",
      "Secrest07-32_000000.csv            15.156238\n",
      "Secrest02-26_000000.csv            18.093663\n",
      "Secrest10-08_000000.csv            16.163024\n",
      "Secrest32-01_theBEST_000000.csv    17.347137\n",
      "Secrest18-13_000000.csv            13.272332\n",
      "Name: 0.9, dtype: float64\n",
      "\n",
      "\n",
      "\n",
      "Min\n",
      "\n",
      "Secrest16-14_000000.csv            0.0\n",
      "Secrest03-12_000000.csv            0.0\n",
      "Secrest24-07_000000.csv            0.0\n",
      "Secrest26-03_000000.csv            0.0\n",
      "SecrestTI-CO_000000.csv            0.0\n",
      "Secrest27-05_000000.csv            0.0\n",
      "Secrest32-06_000000.csv            0.0\n",
      "Secrest07-32_000000.csv            0.0\n",
      "Secrest02-26_000000.csv            0.0\n",
      "Secrest10-08_000000.csv            0.0\n",
      "Secrest32-01_theBEST_000000.csv    0.0\n",
      "Secrest18-13_000000.csv            0.0\n",
      "dtype: float64\n",
      "\n",
      "\n",
      "\n",
      "Mean\n",
      "\n",
      "Secrest16-14_000000.csv            12.960641\n",
      "Secrest03-12_000000.csv            10.965381\n",
      "Secrest24-07_000000.csv            13.443343\n",
      "Secrest26-03_000000.csv             9.327677\n",
      "SecrestTI-CO_000000.csv            10.400767\n",
      "Secrest27-05_000000.csv             9.488178\n",
      "Secrest32-06_000000.csv             9.729308\n",
      "Secrest07-32_000000.csv            10.953478\n",
      "Secrest02-26_000000.csv            12.860694\n",
      "Secrest10-08_000000.csv            12.305756\n",
      "Secrest32-01_theBEST_000000.csv    13.479400\n",
      "Secrest18-13_000000.csv            10.582750\n",
      "dtype: float64\n",
      "\n",
      "\n",
      "\n",
      "Max\n",
      "\n",
      "Secrest16-14_000000.csv            21.683020\n",
      "Secrest03-12_000000.csv            20.953533\n",
      "Secrest24-07_000000.csv            27.787469\n",
      "Secrest26-03_000000.csv            14.339364\n",
      "SecrestTI-CO_000000.csv            18.866641\n",
      "Secrest27-05_000000.csv            14.222250\n",
      "Secrest32-06_000000.csv            15.392370\n",
      "Secrest07-32_000000.csv            23.598168\n",
      "Secrest02-26_000000.csv            25.967970\n",
      "Secrest10-08_000000.csv            20.351083\n",
      "Secrest32-01_theBEST_000000.csv    25.048727\n",
      "Secrest18-13_000000.csv            16.578548\n",
      "dtype: float64\n",
      "\n",
      "\n",
      "\n",
      "Stdev\n",
      "\n",
      "Secrest16-14_000000.csv            3.188268\n",
      "Secrest03-12_000000.csv            2.512562\n",
      "Secrest24-07_000000.csv            4.302863\n",
      "Secrest26-03_000000.csv            2.007989\n",
      "SecrestTI-CO_000000.csv            2.245427\n",
      "Secrest27-05_000000.csv            2.114669\n",
      "Secrest32-06_000000.csv            1.967121\n",
      "Secrest07-32_000000.csv            3.155423\n",
      "Secrest02-26_000000.csv            3.671444\n",
      "Secrest10-08_000000.csv            2.983681\n",
      "Secrest32-01_theBEST_000000.csv    3.160700\n",
      "Secrest18-13_000000.csv            2.117759\n",
      "dtype: float64\n",
      "\n",
      "\n",
      "\n"
     ]
    }
   ],
   "source": [
    "print(\"quantile at 10th percentile\\n\")\n",
    "print(stemlength_df.quantile(q=0.1,axis=0))\n",
    "print('\\n\\n')\n",
    "\n",
    "print(\"quantile at 50th percentile\\n\")\n",
    "print(stemlength_df.quantile(q=0.5,axis=0))\n",
    "print('\\n\\n')\n",
    "\n",
    "print(\"quantile at 80th percentile\\n\")\n",
    "print(stemlength_df.quantile(q=0.9,axis=0))\n",
    "print('\\n\\n')\n",
    "\n",
    "print(\"quantile at 90th percentile\\n\")\n",
    "print(stemlength_df.quantile(q=0.9,axis=0))\n",
    "print('\\n\\n')\n",
    "\n",
    "print(\"Min\\n\")\n",
    "print(stemlength_df.min(axis=0))\n",
    "print('\\n\\n')\n",
    "\n",
    "print(\"Mean\\n\")\n",
    "print(stemlength_df.mean(axis=0))\n",
    "print('\\n\\n')\n",
    "\n",
    "print(\"Max\\n\")\n",
    "print(stemlength_df.max(axis=0))\n",
    "print('\\n\\n')\n",
    "\n",
    "print(\"Stdev\\n\")\n",
    "print(stemlength_df.std(axis=0))\n",
    "print('\\n\\n')"
   ]
  },
  {
   "cell_type": "code",
   "execution_count": 27,
   "metadata": {},
   "outputs": [
    {
     "name": "stdout",
     "output_type": "stream",
     "text": [
      "Secrest16-14_000000.csv            8.855051\n",
      "Secrest03-12_000000.csv            7.776657\n",
      "Secrest24-07_000000.csv            8.197466\n",
      "Secrest26-03_000000.csv            6.598099\n",
      "SecrestTI-CO_000000.csv            7.611965\n",
      "Secrest27-05_000000.csv            6.633651\n",
      "Secrest32-06_000000.csv            7.100908\n",
      "Secrest07-32_000000.csv            7.110730\n",
      "Secrest02-26_000000.csv            8.657532\n",
      "Secrest10-08_000000.csv            8.391142\n",
      "Secrest32-01_theBEST_000000.csv    9.506796\n",
      "Secrest18-13_000000.csv            7.911499\n",
      "Name: 0.1, dtype: float64\n"
     ]
    }
   ],
   "source": [
    "print(stemlength_df.quantile(q=0.,axis=0))"
   ]
  },
  {
   "cell_type": "code",
   "execution_count": 49,
   "metadata": {},
   "outputs": [
    {
     "data": {
      "text/plain": [
       "Secrest16-14_000000.csv            8.207351\n",
       "Secrest03-12_000000.csv            7.024417\n",
       "Secrest24-07_000000.csv            9.140277\n",
       "Secrest26-03_000000.csv            6.026039\n",
       "SecrestTI-CO_000000.csv            6.700196\n",
       "Secrest27-05_000000.csv            5.719483\n",
       "Secrest32-06_000000.csv            6.025491\n",
       "Secrest07-32_000000.csv            7.303372\n",
       "Secrest02-26_000000.csv            8.341934\n",
       "Secrest10-08_000000.csv            8.037406\n",
       "Secrest32-01_theBEST_000000.csv    8.917197\n",
       "Secrest18-13_000000.csv            7.197549\n",
       "dtype: float64"
      ]
     },
     "execution_count": 49,
     "metadata": {},
     "output_type": "execute_result"
    }
   ],
   "source": [
    "stemlength_df.mean(axis=0)"
   ]
  },
  {
   "cell_type": "code",
   "execution_count": 48,
   "metadata": {},
   "outputs": [
    {
     "data": {
      "text/plain": [
       "Secrest16-14_000000.csv            4.505263\n",
       "Secrest03-12_000000.csv            3.483370\n",
       "Secrest24-07_000000.csv            5.323957\n",
       "Secrest26-03_000000.csv            2.885498\n",
       "SecrestTI-CO_000000.csv            3.275486\n",
       "Secrest27-05_000000.csv            3.062944\n",
       "Secrest32-06_000000.csv            3.036356\n",
       "Secrest07-32_000000.csv            3.801033\n",
       "Secrest02-26_000000.csv            4.847445\n",
       "Secrest10-08_000000.csv            4.057883\n",
       "Secrest32-01_theBEST_000000.csv    4.262136\n",
       "Secrest18-13_000000.csv            3.064054\n",
       "dtype: float64"
      ]
     },
     "execution_count": 48,
     "metadata": {},
     "output_type": "execute_result"
    }
   ],
   "source": [
    "stemlength_df.std(axis=0)"
   ]
  },
  {
   "cell_type": "code",
   "execution_count": 45,
   "metadata": {},
   "outputs": [],
   "source": [
    "stemlength_df.columns = list(stemlengths.keys()) "
   ]
  },
  {
   "cell_type": "code",
   "execution_count": 29,
   "metadata": {},
   "outputs": [
    {
     "data": {
      "text/html": [
       "<div>\n",
       "<style scoped>\n",
       "    .dataframe tbody tr th:only-of-type {\n",
       "        vertical-align: middle;\n",
       "    }\n",
       "\n",
       "    .dataframe tbody tr th {\n",
       "        vertical-align: top;\n",
       "    }\n",
       "\n",
       "    .dataframe thead th {\n",
       "        text-align: right;\n",
       "    }\n",
       "</style>\n",
       "<table border=\"1\" class=\"dataframe\">\n",
       "  <thead>\n",
       "    <tr style=\"text-align: right;\">\n",
       "      <th></th>\n",
       "      <th>Secrest16-14_000000.csv</th>\n",
       "      <th>Secrest03-12_000000.csv</th>\n",
       "      <th>Secrest24-07_000000.csv</th>\n",
       "      <th>Secrest26-03_000000.csv</th>\n",
       "      <th>SecrestTI-CO_000000.csv</th>\n",
       "      <th>Secrest27-05_000000.csv</th>\n",
       "      <th>Secrest32-06_000000.csv</th>\n",
       "      <th>Secrest07-32_000000.csv</th>\n",
       "      <th>Secrest02-26_000000.csv</th>\n",
       "      <th>Secrest10-08_000000.csv</th>\n",
       "      <th>Secrest32-01_theBEST_000000.csv</th>\n",
       "      <th>Secrest18-13_000000.csv</th>\n",
       "    </tr>\n",
       "  </thead>\n",
       "  <tbody>\n",
       "    <tr>\n",
       "      <th>0</th>\n",
       "      <td>0.056438</td>\n",
       "      <td>0.187177</td>\n",
       "      <td>0.063836</td>\n",
       "      <td>0.232950</td>\n",
       "      <td>0.341718</td>\n",
       "      <td>0.126513</td>\n",
       "      <td>0.098251</td>\n",
       "      <td>0.067609</td>\n",
       "      <td>0.410598</td>\n",
       "      <td>0.148667</td>\n",
       "      <td>0.602567</td>\n",
       "      <td>0.450056</td>\n",
       "    </tr>\n",
       "    <tr>\n",
       "      <th>1</th>\n",
       "      <td>0.099377</td>\n",
       "      <td>0.848164</td>\n",
       "      <td>0.105042</td>\n",
       "      <td>0.452162</td>\n",
       "      <td>0.587470</td>\n",
       "      <td>0.297569</td>\n",
       "      <td>0.404206</td>\n",
       "      <td>0.222851</td>\n",
       "      <td>0.583701</td>\n",
       "      <td>0.194911</td>\n",
       "      <td>0.805455</td>\n",
       "      <td>0.768381</td>\n",
       "    </tr>\n",
       "    <tr>\n",
       "      <th>2</th>\n",
       "      <td>0.222930</td>\n",
       "      <td>1.086949</td>\n",
       "      <td>0.197593</td>\n",
       "      <td>0.705311</td>\n",
       "      <td>0.913707</td>\n",
       "      <td>0.446148</td>\n",
       "      <td>0.587151</td>\n",
       "      <td>0.412749</td>\n",
       "      <td>0.606381</td>\n",
       "      <td>0.284256</td>\n",
       "      <td>0.951557</td>\n",
       "      <td>1.036297</td>\n",
       "    </tr>\n",
       "    <tr>\n",
       "      <th>3</th>\n",
       "      <td>0.268523</td>\n",
       "      <td>1.354686</td>\n",
       "      <td>0.352449</td>\n",
       "      <td>0.913989</td>\n",
       "      <td>1.132889</td>\n",
       "      <td>0.586505</td>\n",
       "      <td>0.792247</td>\n",
       "      <td>0.730557</td>\n",
       "      <td>0.730800</td>\n",
       "      <td>0.405212</td>\n",
       "      <td>1.214614</td>\n",
       "      <td>1.317276</td>\n",
       "    </tr>\n",
       "    <tr>\n",
       "      <th>4</th>\n",
       "      <td>0.340150</td>\n",
       "      <td>1.594694</td>\n",
       "      <td>0.372003</td>\n",
       "      <td>1.110588</td>\n",
       "      <td>1.348055</td>\n",
       "      <td>0.727501</td>\n",
       "      <td>0.938166</td>\n",
       "      <td>1.089148</td>\n",
       "      <td>0.779388</td>\n",
       "      <td>0.582750</td>\n",
       "      <td>1.401670</td>\n",
       "      <td>1.588537</td>\n",
       "    </tr>\n",
       "  </tbody>\n",
       "</table>\n",
       "</div>"
      ],
      "text/plain": [
       "   Secrest16-14_000000.csv  Secrest03-12_000000.csv  Secrest24-07_000000.csv  \\\n",
       "0                 0.056438                 0.187177                 0.063836   \n",
       "1                 0.099377                 0.848164                 0.105042   \n",
       "2                 0.222930                 1.086949                 0.197593   \n",
       "3                 0.268523                 1.354686                 0.352449   \n",
       "4                 0.340150                 1.594694                 0.372003   \n",
       "\n",
       "   Secrest26-03_000000.csv  SecrestTI-CO_000000.csv  Secrest27-05_000000.csv  \\\n",
       "0                 0.232950                 0.341718                 0.126513   \n",
       "1                 0.452162                 0.587470                 0.297569   \n",
       "2                 0.705311                 0.913707                 0.446148   \n",
       "3                 0.913989                 1.132889                 0.586505   \n",
       "4                 1.110588                 1.348055                 0.727501   \n",
       "\n",
       "   Secrest32-06_000000.csv  Secrest07-32_000000.csv  Secrest02-26_000000.csv  \\\n",
       "0                 0.098251                 0.067609                 0.410598   \n",
       "1                 0.404206                 0.222851                 0.583701   \n",
       "2                 0.587151                 0.412749                 0.606381   \n",
       "3                 0.792247                 0.730557                 0.730800   \n",
       "4                 0.938166                 1.089148                 0.779388   \n",
       "\n",
       "   Secrest10-08_000000.csv  Secrest32-01_theBEST_000000.csv  \\\n",
       "0                 0.148667                         0.602567   \n",
       "1                 0.194911                         0.805455   \n",
       "2                 0.284256                         0.951557   \n",
       "3                 0.405212                         1.214614   \n",
       "4                 0.582750                         1.401670   \n",
       "\n",
       "   Secrest18-13_000000.csv  \n",
       "0                 0.450056  \n",
       "1                 0.768381  \n",
       "2                 1.036297  \n",
       "3                 1.317276  \n",
       "4                 1.588537  "
      ]
     },
     "execution_count": 29,
     "metadata": {},
     "output_type": "execute_result"
    }
   ],
   "source": [
    "stemlength_df.head()"
   ]
  },
  {
   "cell_type": "code",
   "execution_count": 20,
   "metadata": {},
   "outputs": [],
   "source": [
    "stemlength_df.to_csv('stemlengths.csv')"
   ]
  },
  {
   "cell_type": "code",
   "execution_count": 2,
   "metadata": {},
   "outputs": [],
   "source": [
    "%matplotlib qt"
   ]
  },
  {
   "cell_type": "code",
   "execution_count": 4,
   "metadata": {},
   "outputs": [
    {
     "name": "stderr",
     "output_type": "stream",
     "text": [
      "C:\\Users\\User\\AppData\\Local\\Temp\\ipykernel_3740\\2475731826.py:14: RuntimeWarning: divide by zero encountered in divide\n",
      "  theta = np.arctan(dz/np.sqrt(dx**2 + dy**2))\n"
     ]
    }
   ],
   "source": [
    "x = np.transpose(df.iloc[:,[3,6]].to_numpy())\n",
    "y = np.transpose(df.iloc[:,[4,7]].to_numpy())\n",
    "z = np.transpose(df.iloc[:,[5,8]].to_numpy())\n",
    "radius = df.iloc[:,9].to_numpy()\n",
    "noCylinders = radius.size\n",
    "cLength = df.iloc[:,12].to_numpy()\n",
    "BO = df.iloc[:,20].to_numpy()\n",
    "maxBO = np.max(BO)\n",
    "\n",
    "dx = df.iloc[:,6].to_numpy() - df.iloc[:,3].to_numpy()\n",
    "dy = df.iloc[:,7].to_numpy() - df.iloc[:,4].to_numpy()\n",
    "dz = df.iloc[:,8].to_numpy() - df.iloc[:,5].to_numpy()\n",
    "\n",
    "theta = np.arctan(dz/np.sqrt(dx**2 + dy**2))\n"
   ]
  },
  {
   "cell_type": "code",
   "execution_count": 5,
   "metadata": {},
   "outputs": [
    {
     "name": "stdout",
     "output_type": "stream",
     "text": [
      "completed 9.6 \n",
      "\n"
     ]
    }
   ],
   "source": [
    "#def projectCylinders(x,y,z,radius,noCylinders,cLength,dx,dy,dz,theta,BO,maxBO):\n",
    "#project cylinders into (horizontal) plane\n",
    "\n",
    "\n",
    "noCirPoints = 360\n",
    "\n",
    "tCir = np.linspace(0,2*np.pi,noCirPoints)\n",
    "\n",
    "XOrtho = np.cos(tCir)\n",
    "YOrtho = np.sin(tCir)\n",
    "\n",
    "#unit vector at base of cylinder, pointing up cylinder axis\n",
    "vNorm = (np.sqrt(dx**2+dy**2+dz**2))\n",
    "aV = np.hstack((dx[:,None],dy[:,None],dz[:,None]))/vNorm[:,None]\n",
    "bV = -aV; #unit vector looking down from top circle (but not translated)\n",
    "\n",
    "#function to find orthgonal vectors\n",
    "oVz = lambda v,x,y : ((-v[0]*x - v[1]*y)/v[2])\n",
    "\n",
    "minZ = np.zeros_like(dz)\n",
    "maxZ = np.zeros_like(dz)\n",
    "\n",
    "pSV = [None]*noCylinders\n",
    "\n",
    "#for each cylinder\n",
    "for idx in range(noCylinders):\n",
    "\n",
    "    #in the case there's no horizontal movement of the cylinder ends, it's\n",
    "    #area is a circle.\n",
    "    if not np.isnan(x[0,idx]):\n",
    "        if np.logical_and(dx[idx] == 0, dy[idx] == 0):\n",
    "    \n",
    "            pX = x[0,idx] + radius[idx]*np.cos(tCir)\n",
    "            pY = y[0,idx] + radius[idx]*np.sin(tCir)\n",
    "            cPS = Polygon(list(zip(pX,pY)))\n",
    "            minZ[idx] = np.min(z[:,idx])\n",
    "            maxZ[idx] = np.max(z[:,idx])\n",
    "        else:\n",
    "            #find orthogonal vectors @ endpoints\n",
    "            aVp1 = np.hstack((aV[idx,1],-aV[idx,0]))\n",
    "            aVp2 = np.hstack((-aV[idx,1],aV[idx,0]))\n",
    "            bVp1 = np.hstack((bV[idx,1],-bV[idx,0]))\n",
    "            bVp2 = np.hstack((-bV[idx,1],bV[idx,0]))\n",
    "        \n",
    "            aVp1 = aVp1/np.linalg.norm(aVp1)\n",
    "            aVp2 = aVp2/np.linalg.norm(aVp2)\n",
    "            bVp1 = bVp1/np.linalg.norm(bVp1)\n",
    "            bVp2 = bVp2/np.linalg.norm(bVp2)\n",
    "        \n",
    "            #from each endpoint, use radius to find vertices of the rectangle\n",
    "            x1 = x[0,idx] + radius[idx]*aVp1[0]\n",
    "            y1 = y[0,idx] + radius[idx]*aVp1[1]\n",
    "            x2 = x[0,idx] + radius[idx]*aVp2[0]\n",
    "            y2 = y[0,idx] + radius[idx]*aVp2[1]  \n",
    "            x3 = x[1,idx] + radius[idx]*bVp1[0]\n",
    "            y3 = y[1,idx] + radius[idx]*bVp1[1]\n",
    "            x4 = x[1,idx] + radius[idx]*bVp2[0]\n",
    "            y4 = y[1,idx] + radius[idx]*bVp2[1]\n",
    "    \n",
    "    \n",
    "            #calculate set of orthgonal vectors using lambda function\n",
    "            ZOrtho = oVz(aV[idx,:],XOrtho,YOrtho)\n",
    "        \n",
    "            #unit-ify the orthgonal vectors\n",
    "            uovd = np.sqrt(XOrtho**2 + YOrtho**2 + ZOrtho**2)\n",
    "            uov = np.hstack((XOrtho[:,None],YOrtho[:,None],ZOrtho[:,None]))/uovd[:,None]\n",
    "    \n",
    "            #donot re unit-fy, you only want the horizontal component, not the\n",
    "            #renormalized horizontal component\n",
    "        \n",
    "            #using only the X and Y components, find circle coods in plane of\n",
    "            #interest\n",
    "            xaC = x[0,idx] + uov[:,0]*radius[idx]\n",
    "            yaC = y[0,idx] + uov[:,1]*radius[idx]\n",
    "            zaC = z[0,idx] + uov[:,2]*radius[idx]\n",
    "    \n",
    "            xbC = x[1,idx] + uov[:,0]*radius[idx]\n",
    "            ybC = y[1,idx] + uov[:,1]*radius[idx]\n",
    "            zbC = z[1,idx] + uov[:,2]*radius[idx]\n",
    "    \n",
    "            minZ[idx] = np.min(np.vstack((zaC, zbC)))\n",
    "            maxZ[idx] = np.max(np.vstack((zaC, zbC)))\n",
    "        \n",
    "            #assymble total package\n",
    "            rX = np.vstack((x1, x2, x3, x4))\n",
    "            rY = np.vstack((y1, y2, y3, y4))\n",
    "    \n",
    "            #test for circle parts in polygon\n",
    "            c1 = Polygon(list(zip(xaC,yaC)))\n",
    "            bBox = Polygon(list(zip(rX,rY)))\n",
    "            c2 = Polygon(list(zip(xbC,ybC)))           \n",
    "            partsPS = [c1,bBox,c2]\n",
    "    \n",
    "            try: \n",
    "                cPS = unary_union(partsPS)\n",
    "            except:\n",
    "                print(np.any(np.isnan(xaC)))\n",
    "                print(yaC)\n",
    "                print(rX)\n",
    "                print(rY)\n",
    "                print(xbC)\n",
    "                print(ybC)\n",
    "\n",
    "            #cPS = cPS.simplify(0.02,preserve_topology=False)\n",
    "            \n",
    "        \n",
    "        pSV[idx] = cPS #save polygon\n",
    "    \n",
    "        if np.random.uniform(0,1,1) < 0.0001:\n",
    "            print('completed {} \\n'.format(np.round((idx/noCylinders)*100,decimals=1)))\n",
    "\n",
    "#now compute the total union... this may cause problems...\n",
    "#print('Working on Total Union... \\n')\n",
    "#totalUnion = unary_union(pSV)\n",
    "#print('Total Union complete. \\n')\n",
    "#return pSV\n",
    "\n",
    "# TU = projectCylinders(x,y,z,radius,noCylinders,cLength,dx,dy,dz,theta,BO,maxBO)\n",
    "\n",
    "#fig, axs = plt.subplots()\n",
    "#for shp in partsPS:\n",
    "#    xs, ys = shp.exterior.xy\n",
    "#    axs.fill(xs, ys, alpha=0.5, fc='r', ec='none')\n",
    "#axs.axis('equal')\n",
    "#plt.show() #if not interactive\n"
   ]
  },
  {
   "cell_type": "code",
   "execution_count": 6,
   "metadata": {},
   "outputs": [],
   "source": [
    "#compute total union of all projected cylinders\n",
    "\n",
    "totalUnion = unary_union(pSV)"
   ]
  },
  {
   "cell_type": "code",
   "execution_count": 78,
   "metadata": {},
   "outputs": [
    {
     "name": "stderr",
     "output_type": "stream",
     "text": [
      "c:\\Users\\User\\Anaconda3\\envs\\canopyCylinders\\Lib\\site-packages\\descartes\\patch.py:62: ShapelyDeprecationWarning: The array interface is deprecated and will no longer work in Shapely 2.0. Convert the '.coords' to a numpy array instead.\n",
      "  vertices = concatenate([\n",
      "c:\\Users\\User\\Anaconda3\\envs\\canopyCylinders\\Lib\\site-packages\\descartes\\patch.py:64: ShapelyDeprecationWarning: The array interface is deprecated and will no longer work in Shapely 2.0. Convert the '.coords' to a numpy array instead.\n",
      "  [asarray(r)[:, :2] for r in t.interiors])\n"
     ]
    }
   ],
   "source": [
    "#visualize cylinder projection\n",
    "fig, axs = plt.subplots()\n",
    "\n",
    "\n",
    "patch = PolygonPatch(totalUnion)\n",
    "axs.add_patch(patch)\n",
    "#axs.set_aspect('equal', 'datalim')\n",
    "axs.set_xlim((-10,10))\n",
    "axs.set_ylim((-15,3))\n",
    "plt.show()\n",
    "\n"
   ]
  },
  {
   "cell_type": "code",
   "execution_count": 7,
   "metadata": {},
   "outputs": [
    {
     "name": "stdout",
     "output_type": "stream",
     "text": [
      "Finished 11425 entry \n",
      "\n",
      "Finished 14038 entry \n",
      "\n",
      "Finished 29349 entry \n",
      "\n"
     ]
    }
   ],
   "source": [
    "# draft adjaceny matrix construction from prior matlab code\n",
    "R = {}\n",
    "\n",
    "sid = df[' ID']\n",
    "pid = df[' parentID']\n",
    "sid.min()\n",
    "    \n",
    "sid = sid + 1\n",
    "pid = pid + 1\n",
    "    \n",
    "#adjacency matrix construction from ID and parent ID\n",
    "\n",
    "#find unique ID and parent ID values\n",
    "\n",
    "#depending on what values exist, translate to a range compatible with square matrix indicies\n",
    "\n",
    "#For each segment ID and corresponding parent ID, fill element in square matrix\n",
    "\n",
    "#end\n",
    "    \n",
    "noSeg = np.max(sid) + 2\n",
    "A = np.zeros((noSeg,noSeg))\n",
    "\n",
    "for idx in range(noSeg-3):\n",
    "    #from row to column\n",
    "    A[pid[idx],sid[idx]] = 1\n",
    "    if np.random.uniform(0,1,1) < 0.0001:\n",
    "        print('Finished {} entry \\n'.format(idx))\n",
    "\n"
   ]
  },
  {
   "cell_type": "code",
   "execution_count": 8,
   "metadata": {},
   "outputs": [],
   "source": [
    "# let's make a graph using networkx\n",
    "rows, cols = np.where(A == 1)\n",
    "edges = zip(rows.tolist(), cols.tolist())\n",
    "gr = nx.Graph()\n",
    "gr.add_edges_from(edges)\n",
    "\n"
   ]
  },
  {
   "cell_type": "code",
   "execution_count": 9,
   "metadata": {},
   "outputs": [],
   "source": [
    "#Search for longest path \n",
    "endnodes = [x for x in gr.nodes() if gr.degree(x)==1]\n",
    "pathLen = np.zeros(len(endnodes),dtype=\"int_\")\n",
    "for idx,pn in enumerate(endnodes):\n",
    "    tmp = nx.shortest_path(gr,pn,1)\n",
    "    pathLen[idx] = len(tmp)"
   ]
  },
  {
   "cell_type": "code",
   "execution_count": 10,
   "metadata": {},
   "outputs": [],
   "source": [
    "stempaths = np.empty((len(endnodes),np.max(pathLen)),dtype=np.float64)\n",
    "stempaths[:] = np.nan\n",
    "\n",
    "for idx,pn in enumerate(endnodes):\n",
    "    if pn == 0:\n",
    "        continue\n",
    "    \n",
    "    tmp = nx.shortest_path(gr,pn,1)\n",
    "\n",
    "    #replacing nested for loop with numpy function, intersect1d\n",
    "    _, _, sid_ind = np.intersect1d(tmp, sid, return_indices=True)\n",
    " \n",
    "    diffs = np.sqrt(np.diff(x[1,sid_ind])**2+np.diff(y[1,sid_ind])**2+np.diff(z[1,sid_ind])**2)\n",
    "\n",
    "    cumlength = np.cumsum(diffs)\n",
    "    stempaths[idx,:cumlength.size] = cumlength + 100.0*idx\n",
    "if np.random.uniform(0,1,1) <0.01:\n",
    "    print(\"Just completed {} stempath...\".format(idx))\n"
   ]
  }
 ],
 "metadata": {
  "kernelspec": {
   "display_name": "Python 3",
   "language": "python",
   "name": "python3"
  },
  "language_info": {
   "codemirror_mode": {
    "name": "ipython",
    "version": 3
   },
   "file_extension": ".py",
   "mimetype": "text/x-python",
   "name": "python",
   "nbconvert_exporter": "python",
   "pygments_lexer": "ipython3",
   "version": "3.8.8"
  },
  "vscode": {
   "interpreter": {
    "hash": "c8a5e6725f768caf78c725f11abc257debe5825de8f1e08d32e2e7253549ef76"
   }
  }
 },
 "nbformat": 4,
 "nbformat_minor": 2
}
